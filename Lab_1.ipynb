{
 "cells": [
  {
   "cell_type": "code",
   "execution_count": 1,
   "metadata": {},
   "outputs": [],
   "source": [
    "import pandas as pd\n",
    "import numpy as np\n",
    "from pandas import DataFrame"
   ]
  },
  {
   "cell_type": "code",
   "execution_count": 25,
   "metadata": {},
   "outputs": [
    {
     "data": {
      "text/plain": [
       "26809176"
      ]
     },
     "execution_count": 25,
     "metadata": {},
     "output_type": "execute_result"
    }
   ],
   "source": [
    "#Question 1: If you know that in the world table, the continent of the countries Armenia, Azerbaijan, Russia, Georgia and Turkey is not Europe.  Write a query that returns  the  total  area  of  the  European  countries  after  adding  the  area  of these countries.\n",
    "world = pd.read_csv('world.csv', encoding='latin-1')\n",
    "sum(world.loc[world['continent'] == 'Europe']['area'], sum(world.loc[world['name'].isin(['Armenia','Azerbaijan', 'Russia', 'Georgia', 'Turkey'])]['area'])) "
   ]
  },
  {
   "cell_type": "code",
   "execution_count": 187,
   "metadata": {},
   "outputs": [
    {
     "data": {
      "text/html": [
       "<div>\n",
       "<style scoped>\n",
       "    .dataframe tbody tr th:only-of-type {\n",
       "        vertical-align: middle;\n",
       "    }\n",
       "\n",
       "    .dataframe tbody tr th {\n",
       "        vertical-align: top;\n",
       "    }\n",
       "\n",
       "    .dataframe thead th {\n",
       "        text-align: right;\n",
       "    }\n",
       "</style>\n",
       "<table border=\"1\" class=\"dataframe\">\n",
       "  <thead>\n",
       "    <tr style=\"text-align: right;\">\n",
       "      <th></th>\n",
       "      <th>player</th>\n",
       "      <th>stadium</th>\n",
       "    </tr>\n",
       "  </thead>\n",
       "  <tbody>\n",
       "    <tr>\n",
       "      <th>15</th>\n",
       "      <td>Mario Gómez</td>\n",
       "      <td>Arena Lviv</td>\n",
       "    </tr>\n",
       "    <tr>\n",
       "      <th>61</th>\n",
       "      <td>Philipp Lahm</td>\n",
       "      <td>PGE Arena Gdansk</td>\n",
       "    </tr>\n",
       "    <tr>\n",
       "      <th>62</th>\n",
       "      <td>Georgios Samaras</td>\n",
       "      <td>PGE Arena Gdansk</td>\n",
       "    </tr>\n",
       "    <tr>\n",
       "      <th>63</th>\n",
       "      <td>Sami Khedira</td>\n",
       "      <td>PGE Arena Gdansk</td>\n",
       "    </tr>\n",
       "    <tr>\n",
       "      <th>64</th>\n",
       "      <td>Miroslav Klose</td>\n",
       "      <td>PGE Arena Gdansk</td>\n",
       "    </tr>\n",
       "    <tr>\n",
       "      <th>65</th>\n",
       "      <td>Marco Reus</td>\n",
       "      <td>PGE Arena Gdansk</td>\n",
       "    </tr>\n",
       "    <tr>\n",
       "      <th>66</th>\n",
       "      <td>Dimitris Salpingidis</td>\n",
       "      <td>PGE Arena Gdansk</td>\n",
       "    </tr>\n",
       "    <tr>\n",
       "      <th>71</th>\n",
       "      <td>Mario Balotelli</td>\n",
       "      <td>National Stadium, Warsaw</td>\n",
       "    </tr>\n",
       "    <tr>\n",
       "      <th>72</th>\n",
       "      <td>Mario Balotelli</td>\n",
       "      <td>National Stadium, Warsaw</td>\n",
       "    </tr>\n",
       "    <tr>\n",
       "      <th>73</th>\n",
       "      <td>Mesut Özil</td>\n",
       "      <td>National Stadium, Warsaw</td>\n",
       "    </tr>\n",
       "  </tbody>\n",
       "</table>\n",
       "</div>"
      ],
      "text/plain": [
       "                  player                   stadium\n",
       "15           Mario Gómez                Arena Lviv\n",
       "61          Philipp Lahm          PGE Arena Gdansk\n",
       "62      Georgios Samaras          PGE Arena Gdansk\n",
       "63          Sami Khedira          PGE Arena Gdansk\n",
       "64        Miroslav Klose          PGE Arena Gdansk\n",
       "65            Marco Reus          PGE Arena Gdansk\n",
       "66  Dimitris Salpingidis          PGE Arena Gdansk\n",
       "71       Mario Balotelli  National Stadium, Warsaw\n",
       "72       Mario Balotelli  National Stadium, Warsaw\n",
       "73            Mesut Özil  National Stadium, Warsaw"
      ]
     },
     "execution_count": 187,
     "metadata": {},
     "output_type": "execute_result"
    }
   ],
   "source": [
    "#Question 2: Write a query that returns the names of the players in the German team whoscored at least one goal with the name of the stadium where they scored thegoals.\n",
    "game = pd.read_csv('game.csv')\n",
    "goal = pd.read_csv('goal.csv', encoding='latin-1')\n",
    "match = pd.merge(game, goal, left_on='id', right_on='matchid', how='outer')\n",
    "match.loc[match['team1'] == 'GER',['player' , 'stadium']]"
   ]
  },
  {
   "cell_type": "code",
   "execution_count": 180,
   "metadata": {},
   "outputs": [
    {
     "data": {
      "text/html": [
       "<div>\n",
       "<style scoped>\n",
       "    .dataframe tbody tr th:only-of-type {\n",
       "        vertical-align: middle;\n",
       "    }\n",
       "\n",
       "    .dataframe tbody tr th {\n",
       "        vertical-align: top;\n",
       "    }\n",
       "\n",
       "    .dataframe thead th {\n",
       "        text-align: right;\n",
       "    }\n",
       "</style>\n",
       "<table border=\"1\" class=\"dataframe\">\n",
       "  <thead>\n",
       "    <tr style=\"text-align: right;\">\n",
       "      <th></th>\n",
       "      <th>player</th>\n",
       "      <th>teamid</th>\n",
       "    </tr>\n",
       "  </thead>\n",
       "  <tbody>\n",
       "    <tr>\n",
       "      <th>67</th>\n",
       "      <td>Xabi Alonso</td>\n",
       "      <td>ESP</td>\n",
       "    </tr>\n",
       "    <tr>\n",
       "      <th>68</th>\n",
       "      <td>Xabi Alonso</td>\n",
       "      <td>ESP</td>\n",
       "    </tr>\n",
       "  </tbody>\n",
       "</table>\n",
       "</div>"
      ],
      "text/plain": [
       "         player teamid\n",
       "67  Xabi Alonso    ESP\n",
       "68  Xabi Alonso    ESP"
      ]
     },
     "execution_count": 180,
     "metadata": {},
     "output_type": "execute_result"
    }
   ],
   "source": [
    "#Question 3: Write a query which would show the players and their teams for those whohave scored against France (FRA) in Donbass Arena.\n",
    "match.loc[(match['team2'] == 'FRA') & (match['teamid'] != 'FRA') & (match['stadium'] == 'Donbass Arena'),['player', 'teamid']]"
   ]
  },
  {
   "cell_type": "code",
   "execution_count": 178,
   "metadata": {},
   "outputs": [
    {
     "name": "stdout",
     "output_type": "stream",
     "text": [
      "continent\n",
      "Africa           1.880579e+07\n",
      "Asia             9.390367e+07\n",
      "Caribbean        3.286291e+06\n",
      "Eurasia          7.450870e+07\n",
      "Europe           1.448092e+07\n",
      "North America    4.715956e+07\n",
      "Oceania          2.698820e+06\n",
      "South America    3.135531e+07\n",
      "dtype: float64\n"
     ]
    }
   ],
   "source": [
    "#Question 4: Write a query that displays the name and the the average population of thecontinent in the world table.\n",
    "worlds = world.groupby('continent').sum()['population']/world.groupby('continent').count()['name']\n",
    "print(worlds)"
   ]
  },
  {
   "cell_type": "code",
   "execution_count": 146,
   "metadata": {},
   "outputs": [
    {
     "data": {
      "text/plain": [
       "name          0\n",
       "continent     0\n",
       "area          0\n",
       "population    0\n",
       "gdp           6\n",
       "capital       1\n",
       "tld           0\n",
       "flag          0\n",
       "dtype: int64"
      ]
     },
     "execution_count": 146,
     "metadata": {},
     "output_type": "execute_result"
    }
   ],
   "source": [
    "#Question 5: Write a query to return the number of missing values in each column of theworld table [only in Python for now].  Use the world table.\n",
    "world.isnull().sum()"
   ]
  },
  {
   "cell_type": "code",
   "execution_count": 165,
   "metadata": {},
   "outputs": [
    {
     "data": {
      "text/plain": [
       "0      Afghanistan\n",
       "1          Albania\n",
       "2          Algeria\n",
       "3          Andorra\n",
       "4           Angola\n",
       "          ...     \n",
       "190      Venezuela\n",
       "191        Vietnam\n",
       "192          Yemen\n",
       "193         Zambia\n",
       "194       Zimbabwe\n",
       "Name: name, Length: 189, dtype: object"
      ]
     },
     "execution_count": 165,
     "metadata": {},
     "output_type": "execute_result"
    }
   ],
   "source": [
    "#Question 6: Write a query that lists the countries with no missing values in their gdp. Use the world table.\n",
    "world.loc[world['gdp'].notna()] ['name']"
   ]
  },
  {
   "cell_type": "code",
   "execution_count": 164,
   "metadata": {},
   "outputs": [
    {
     "data": {
      "text/html": [
       "<div>\n",
       "<style scoped>\n",
       "    .dataframe tbody tr th:only-of-type {\n",
       "        vertical-align: middle;\n",
       "    }\n",
       "\n",
       "    .dataframe tbody tr th {\n",
       "        vertical-align: top;\n",
       "    }\n",
       "\n",
       "    .dataframe thead th {\n",
       "        text-align: right;\n",
       "    }\n",
       "</style>\n",
       "<table border=\"1\" class=\"dataframe\">\n",
       "  <thead>\n",
       "    <tr style=\"text-align: right;\">\n",
       "      <th></th>\n",
       "      <th>name</th>\n",
       "      <th>continent</th>\n",
       "      <th>area</th>\n",
       "      <th>population</th>\n",
       "      <th>gdp</th>\n",
       "      <th>capital</th>\n",
       "      <th>tld</th>\n",
       "      <th>flag</th>\n",
       "    </tr>\n",
       "  </thead>\n",
       "  <tbody>\n",
       "    <tr>\n",
       "      <th>0</th>\n",
       "      <td>Afghanistan</td>\n",
       "      <td>Asia</td>\n",
       "      <td>652230</td>\n",
       "      <td>25500100</td>\n",
       "      <td>2.036400e+10</td>\n",
       "      <td>Kabul</td>\n",
       "      <td>.af</td>\n",
       "      <td>//upload.wikimedia.org/wikipedia/commons/9/9a/...</td>\n",
       "    </tr>\n",
       "    <tr>\n",
       "      <th>1</th>\n",
       "      <td>Albania</td>\n",
       "      <td>Europe</td>\n",
       "      <td>28748</td>\n",
       "      <td>2821977</td>\n",
       "      <td>1.204400e+10</td>\n",
       "      <td>Tirana</td>\n",
       "      <td>.al</td>\n",
       "      <td>//upload.wikimedia.org/wikipedia/commons/3/36/...</td>\n",
       "    </tr>\n",
       "    <tr>\n",
       "      <th>2</th>\n",
       "      <td>Algeria</td>\n",
       "      <td>Africa</td>\n",
       "      <td>2381741</td>\n",
       "      <td>38700000</td>\n",
       "      <td>2.070210e+11</td>\n",
       "      <td>Algiers</td>\n",
       "      <td>.dz</td>\n",
       "      <td>//upload.wikimedia.org/wikipedia/commons/7/77/...</td>\n",
       "    </tr>\n",
       "    <tr>\n",
       "      <th>3</th>\n",
       "      <td>Andorra</td>\n",
       "      <td>Europe</td>\n",
       "      <td>468</td>\n",
       "      <td>76098</td>\n",
       "      <td>3.222000e+09</td>\n",
       "      <td>Andorra la Vella</td>\n",
       "      <td>.ad</td>\n",
       "      <td>//upload.wikimedia.org/wikipedia/commons/1/19/...</td>\n",
       "    </tr>\n",
       "    <tr>\n",
       "      <th>4</th>\n",
       "      <td>Angola</td>\n",
       "      <td>Africa</td>\n",
       "      <td>1246700</td>\n",
       "      <td>19183590</td>\n",
       "      <td>1.163080e+11</td>\n",
       "      <td>Luanda</td>\n",
       "      <td>.ao</td>\n",
       "      <td>//upload.wikimedia.org/wikipedia/commons/9/9d/...</td>\n",
       "    </tr>\n",
       "    <tr>\n",
       "      <th>...</th>\n",
       "      <td>...</td>\n",
       "      <td>...</td>\n",
       "      <td>...</td>\n",
       "      <td>...</td>\n",
       "      <td>...</td>\n",
       "      <td>...</td>\n",
       "      <td>...</td>\n",
       "      <td>...</td>\n",
       "    </tr>\n",
       "    <tr>\n",
       "      <th>190</th>\n",
       "      <td>Venezuela</td>\n",
       "      <td>South America</td>\n",
       "      <td>916445</td>\n",
       "      <td>28946101</td>\n",
       "      <td>3.824240e+11</td>\n",
       "      <td>Caracas</td>\n",
       "      <td>.ve</td>\n",
       "      <td>//upload.wikimedia.org/wikipedia/commons/0/06/...</td>\n",
       "    </tr>\n",
       "    <tr>\n",
       "      <th>191</th>\n",
       "      <td>Vietnam</td>\n",
       "      <td>Asia</td>\n",
       "      <td>331212</td>\n",
       "      <td>89708900</td>\n",
       "      <td>1.558200e+11</td>\n",
       "      <td>Hanoi</td>\n",
       "      <td>.vn</td>\n",
       "      <td>//upload.wikimedia.org/wikipedia/commons/2/21/...</td>\n",
       "    </tr>\n",
       "    <tr>\n",
       "      <th>192</th>\n",
       "      <td>Yemen</td>\n",
       "      <td>Asia</td>\n",
       "      <td>527968</td>\n",
       "      <td>25235000</td>\n",
       "      <td>3.283100e+10</td>\n",
       "      <td>Sanaa</td>\n",
       "      <td>.ye</td>\n",
       "      <td>//upload.wikimedia.org/wikipedia/commons/8/89/...</td>\n",
       "    </tr>\n",
       "    <tr>\n",
       "      <th>193</th>\n",
       "      <td>Zambia</td>\n",
       "      <td>Africa</td>\n",
       "      <td>752612</td>\n",
       "      <td>15023315</td>\n",
       "      <td>2.149000e+10</td>\n",
       "      <td>Lusaka</td>\n",
       "      <td>.zm</td>\n",
       "      <td>//upload.wikimedia.org/wikipedia/commons/0/06/...</td>\n",
       "    </tr>\n",
       "    <tr>\n",
       "      <th>194</th>\n",
       "      <td>Zimbabwe</td>\n",
       "      <td>Africa</td>\n",
       "      <td>390757</td>\n",
       "      <td>13061239</td>\n",
       "      <td>9.802000e+09</td>\n",
       "      <td>Harare</td>\n",
       "      <td>.zw</td>\n",
       "      <td>//upload.wikimedia.org/wikipedia/commons/6/6a/...</td>\n",
       "    </tr>\n",
       "  </tbody>\n",
       "</table>\n",
       "<p>189 rows × 8 columns</p>\n",
       "</div>"
      ],
      "text/plain": [
       "            name      continent     area  population           gdp  \\\n",
       "0    Afghanistan           Asia   652230    25500100  2.036400e+10   \n",
       "1        Albania         Europe    28748     2821977  1.204400e+10   \n",
       "2        Algeria         Africa  2381741    38700000  2.070210e+11   \n",
       "3        Andorra         Europe      468       76098  3.222000e+09   \n",
       "4         Angola         Africa  1246700    19183590  1.163080e+11   \n",
       "..           ...            ...      ...         ...           ...   \n",
       "190    Venezuela  South America   916445    28946101  3.824240e+11   \n",
       "191      Vietnam           Asia   331212    89708900  1.558200e+11   \n",
       "192        Yemen           Asia   527968    25235000  3.283100e+10   \n",
       "193       Zambia         Africa   752612    15023315  2.149000e+10   \n",
       "194     Zimbabwe         Africa   390757    13061239  9.802000e+09   \n",
       "\n",
       "              capital  tld                                               flag  \n",
       "0               Kabul  .af  //upload.wikimedia.org/wikipedia/commons/9/9a/...  \n",
       "1              Tirana  .al  //upload.wikimedia.org/wikipedia/commons/3/36/...  \n",
       "2             Algiers  .dz  //upload.wikimedia.org/wikipedia/commons/7/77/...  \n",
       "3    Andorra la Vella  .ad  //upload.wikimedia.org/wikipedia/commons/1/19/...  \n",
       "4              Luanda  .ao  //upload.wikimedia.org/wikipedia/commons/9/9d/...  \n",
       "..                ...  ...                                                ...  \n",
       "190           Caracas  .ve  //upload.wikimedia.org/wikipedia/commons/0/06/...  \n",
       "191             Hanoi  .vn  //upload.wikimedia.org/wikipedia/commons/2/21/...  \n",
       "192            Sanaa  .ye  //upload.wikimedia.org/wikipedia/commons/8/89/...  \n",
       "193            Lusaka  .zm  //upload.wikimedia.org/wikipedia/commons/0/06/...  \n",
       "194            Harare  .zw  //upload.wikimedia.org/wikipedia/commons/6/6a/...  \n",
       "\n",
       "[189 rows x 8 columns]"
      ]
     },
     "execution_count": 164,
     "metadata": {},
     "output_type": "execute_result"
    }
   ],
   "source": [
    "#Question 7: Write a query that lists the countries with no missing values in any of their attributes\n",
    "world.dropna()"
   ]
  },
  {
   "cell_type": "code",
   "execution_count": 177,
   "metadata": {},
   "outputs": [
    {
     "data": {
      "text/plain": [
       "budget    5.188213e+07\n",
       "dtype: float64"
      ]
     },
     "execution_count": 177,
     "metadata": {},
     "output_type": "execute_result"
    }
   ],
   "source": [
    "#Question 8: Write a query to calculate the average budget for movies produced in USA since 2010\n",
    "movies = pd.read_csv('movies.csv')\n",
    "movies.loc[(movies['country'] == 'USA') & (movies['title_year'] >= 2010),['budget']].mean()"
   ]
  },
  {
   "cell_type": "code",
   "execution_count": 188,
   "metadata": {},
   "outputs": [
    {
     "data": {
      "text/plain": [
       "1893"
      ]
     },
     "execution_count": 188,
     "metadata": {},
     "output_type": "execute_result"
    }
   ],
   "source": [
    "#Question 9: Write a query to count the number of unique directors by names. Use the movies table.\n",
    "len(movies['director_name'].unique())"
   ]
  },
  {
   "cell_type": "code",
   "execution_count": 198,
   "metadata": {},
   "outputs": [
    {
     "data": {
      "text/html": [
       "<div>\n",
       "<style scoped>\n",
       "    .dataframe tbody tr th:only-of-type {\n",
       "        vertical-align: middle;\n",
       "    }\n",
       "\n",
       "    .dataframe tbody tr th {\n",
       "        vertical-align: top;\n",
       "    }\n",
       "\n",
       "    .dataframe thead th {\n",
       "        text-align: right;\n",
       "    }\n",
       "</style>\n",
       "<table border=\"1\" class=\"dataframe\">\n",
       "  <thead>\n",
       "    <tr style=\"text-align: right;\">\n",
       "      <th></th>\n",
       "      <th>yr</th>\n",
       "      <th>subject</th>\n",
       "      <th>winner</th>\n",
       "    </tr>\n",
       "  </thead>\n",
       "  <tbody>\n",
       "    <tr>\n",
       "      <th>0</th>\n",
       "      <td>1901</td>\n",
       "      <td>Chemistry</td>\n",
       "      <td>Jacobus Henricus van 't Hoff</td>\n",
       "    </tr>\n",
       "    <tr>\n",
       "      <th>1</th>\n",
       "      <td>1901</td>\n",
       "      <td>Literature</td>\n",
       "      <td>Sully Prudhomme</td>\n",
       "    </tr>\n",
       "    <tr>\n",
       "      <th>2</th>\n",
       "      <td>1901</td>\n",
       "      <td>Medicine</td>\n",
       "      <td>Emil Adolf von Behring</td>\n",
       "    </tr>\n",
       "    <tr>\n",
       "      <th>3</th>\n",
       "      <td>1901</td>\n",
       "      <td>Peace</td>\n",
       "      <td>Jean Henry Dunant</td>\n",
       "    </tr>\n",
       "    <tr>\n",
       "      <th>4</th>\n",
       "      <td>1901</td>\n",
       "      <td>Peace</td>\n",
       "      <td>Frédéric Passy</td>\n",
       "    </tr>\n",
       "    <tr>\n",
       "      <th>...</th>\n",
       "      <td>...</td>\n",
       "      <td>...</td>\n",
       "      <td>...</td>\n",
       "    </tr>\n",
       "    <tr>\n",
       "      <th>964</th>\n",
       "      <td>2016</td>\n",
       "      <td>Medicine</td>\n",
       "      <td>Yoshinori Ohsumi</td>\n",
       "    </tr>\n",
       "    <tr>\n",
       "      <th>965</th>\n",
       "      <td>2016</td>\n",
       "      <td>Peace</td>\n",
       "      <td>Juan Manuel Santos</td>\n",
       "    </tr>\n",
       "    <tr>\n",
       "      <th>966</th>\n",
       "      <td>2016</td>\n",
       "      <td>Physics</td>\n",
       "      <td>David J. Thouless</td>\n",
       "    </tr>\n",
       "    <tr>\n",
       "      <th>967</th>\n",
       "      <td>2016</td>\n",
       "      <td>Physics</td>\n",
       "      <td>F. Duncan M. Haldane</td>\n",
       "    </tr>\n",
       "    <tr>\n",
       "      <th>968</th>\n",
       "      <td>2016</td>\n",
       "      <td>Physics</td>\n",
       "      <td>J. Michael Kosterlitz</td>\n",
       "    </tr>\n",
       "  </tbody>\n",
       "</table>\n",
       "<p>969 rows × 3 columns</p>\n",
       "</div>"
      ],
      "text/plain": [
       "       yr     subject                        winner\n",
       "0    1901   Chemistry  Jacobus Henricus van 't Hoff\n",
       "1    1901  Literature               Sully Prudhomme\n",
       "2    1901    Medicine        Emil Adolf von Behring\n",
       "3    1901       Peace             Jean Henry Dunant\n",
       "4    1901       Peace                Frédéric Passy\n",
       "..    ...         ...                           ...\n",
       "964  2016    Medicine              Yoshinori Ohsumi\n",
       "965  2016       Peace            Juan Manuel Santos\n",
       "966  2016     Physics             David J. Thouless\n",
       "967  2016     Physics          F. Duncan M. Haldane\n",
       "968  2016     Physics         J. Michael Kosterlitz\n",
       "\n",
       "[969 rows x 3 columns]"
      ]
     },
     "execution_count": 198,
     "metadata": {},
     "output_type": "execute_result"
    }
   ],
   "source": [
    "#Question 10: Write a query that returns the years in which no Nobel price is giver for physics. Use the nobel table.\n",
    "nobel = pd.read_csv('nobel.csv')\n",
    "nobel.loc[nobel['subject'] != 'physics'] ['yr'].unique()\n",
    "nobel"
   ]
  },
  {
   "cell_type": "code",
   "execution_count": 206,
   "metadata": {},
   "outputs": [
    {
     "data": {
      "text/plain": [
       "203"
      ]
     },
     "execution_count": 206,
     "metadata": {},
     "output_type": "execute_result"
    }
   ],
   "source": [
    "#Question 11: Write a query to count the number of Nobel prize winners from Netherlands.\n",
    "#Since no column for countries, replaced Netherlands for subject == 'Physics'\n",
    "len(nobel.loc[nobel['subject'] == 'Physics'] ['winner'].unique())"
   ]
  },
  {
   "cell_type": "code",
   "execution_count": 211,
   "metadata": {},
   "outputs": [
    {
     "data": {
      "text/plain": [
       "subject\n",
       "Chemistry     194\n",
       "Economics      83\n",
       "Literature    113\n",
       "Medicine      227\n",
       "Peace         130\n",
       "Physics       222\n",
       "Name: winner, dtype: int64"
      ]
     },
     "execution_count": 211,
     "metadata": {},
     "output_type": "execute_result"
    }
   ],
   "source": [
    "#Question 12: Write a query to find the number of Nobel prize winners of each country.\n",
    "#Since no column for countries, replaced countries for subject.\n",
    "nobel.groupby('subject').count()['winner']"
   ]
  },
  {
   "cell_type": "code",
   "execution_count": 213,
   "metadata": {},
   "outputs": [
    {
     "data": {
      "text/plain": [
       "203"
      ]
     },
     "execution_count": 213,
     "metadata": {},
     "output_type": "execute_result"
    }
   ],
   "source": [
    "#Question 13: Write a querie to count the number of Nobel prize winners in Physics.\n",
    "len(nobel.loc[nobel['subject'] == 'Physics'] ['winner'].unique())"
   ]
  },
  {
   "cell_type": "code",
   "execution_count": 216,
   "metadata": {},
   "outputs": [
    {
     "data": {
      "text/plain": [
       "subject\n",
       "Chemistry     194\n",
       "Economics      83\n",
       "Literature    113\n",
       "Medicine      227\n",
       "Peace         130\n",
       "Physics       222\n",
       "Name: winner, dtype: int64"
      ]
     },
     "execution_count": 216,
     "metadata": {},
     "output_type": "execute_result"
    }
   ],
   "source": [
    "#Question 14: Write a query to find the number of Nobel prize winners in each subject. \n",
    "nobel.groupby('subject').count()['winner']"
   ]
  },
  {
   "cell_type": "code",
   "execution_count": null,
   "metadata": {},
   "outputs": [],
   "source": []
  }
 ],
 "metadata": {
  "kernelspec": {
   "display_name": "Python 3",
   "language": "python",
   "name": "python3"
  },
  "language_info": {
   "codemirror_mode": {
    "name": "ipython",
    "version": 3
   },
   "file_extension": ".py",
   "mimetype": "text/x-python",
   "name": "python",
   "nbconvert_exporter": "python",
   "pygments_lexer": "ipython3",
   "version": "3.8.3"
  }
 },
 "nbformat": 4,
 "nbformat_minor": 4
}
